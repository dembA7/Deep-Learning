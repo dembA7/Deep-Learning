{
 "cells": [
  {
   "cell_type": "code",
   "execution_count": null,
   "metadata": {},
   "outputs": [
    {
     "name": "stdout",
     "output_type": "stream",
     "text": [
      "Cuda device is available:  True\n",
      "Cuda current device:  _CudaDeviceProperties(name='NVIDIA GeForce RTX 3070 Ti', major=8, minor=6, total_memory=8191MB, multi_processor_count=48)\n"
     ]
    }
   ],
   "source": [
    "\"\"\"\n",
    "These models use YOLOv5 to detect objects in a given image.\n",
    "\n",
    "@see https://github.com/ultralytics/yolov5\n",
    "\"\"\"\n",
    "\n",
    "import torch\n",
    "\n",
    "# Check device availability\n",
    "print(\"Cuda device is available: \", torch.cuda.is_available())\n",
    "\n",
    "# Check the current device\n",
    "print(\"Cuda current device: \", torch.cuda.get_device_properties(torch.cuda.current_device()))"
   ]
  },
  {
   "cell_type": "code",
   "execution_count": null,
   "metadata": {},
   "outputs": [],
   "source": [
    "# Clone YOLOv5 repository\n",
    "# !git clone https://github.com/ultralytics/yolov5 \n",
    "# %cd yolov5\n",
    "\n",
    "# Install dependencies\n",
    "# %pip install -r requirements.txt"
   ]
  },
  {
   "cell_type": "code",
   "execution_count": null,
   "metadata": {},
   "outputs": [],
   "source": [
    "# This first iteration model uses YOLOv5s and default hyperparameters\n",
    "!python train.py --img 640 --batch 4 --epochs 50 --data ../data.yaml --weights yolov5s.pt --device 0"
   ]
  },
  {
   "cell_type": "code",
   "execution_count": null,
   "metadata": {},
   "outputs": [],
   "source": [
    "# This second iteration model uses YOLOv5l and custom hyperparameters\n",
    "!python train.py --img 640 --batch 4 --epochs 50 --data ../data.yaml --weights yolov5l.pt --device 0 --hyp ../hyp.yaml"
   ]
  },
  {
   "cell_type": "code",
   "execution_count": null,
   "metadata": {},
   "outputs": [],
   "source": [
    "# This third iteration model uses transfer learning from the second iteration model, has a frozen backbone and trains on two merged datasets\n",
    "!python train.py --img 640 --batch 4 --epochs 25 --data ../data.yaml --weights ../../results/tuned/weights/best.pt --device 0 --freeze 10"
   ]
  }
 ],
 "metadata": {
  "kernelspec": {
   "display_name": "Python 3",
   "language": "python",
   "name": "python3"
  },
  "language_info": {
   "codemirror_mode": {
    "name": "ipython",
    "version": 3
   },
   "file_extension": ".py",
   "mimetype": "text/x-python",
   "name": "python",
   "nbconvert_exporter": "python",
   "pygments_lexer": "ipython3",
   "version": "3.10.11"
  }
 },
 "nbformat": 4,
 "nbformat_minor": 2
}
