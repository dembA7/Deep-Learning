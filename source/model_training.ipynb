{
 "cells": [
  {
   "cell_type": "code",
   "execution_count": 7,
   "metadata": {},
   "outputs": [
    {
     "name": "stdout",
     "output_type": "stream",
     "text": [
      "Cuda device is available:  True\n",
      "Cuda current device:  _CudaDeviceProperties(name='NVIDIA GeForce RTX 3070 Ti', major=8, minor=6, total_memory=8191MB, multi_processor_count=48)\n"
     ]
    }
   ],
   "source": [
    "\"\"\"\n",
    "This first iteration model uses YOLOv5 to detect objects in the image.\n",
    "\n",
    "@see https://github.com/ultralytics/yolov5\n",
    "\"\"\"\n",
    "\n",
    "import pandas as pd\n",
    "import torch\n",
    "import os\n",
    "\n",
    "# Check device availability\n",
    "print(\"Cuda device is available: \", torch.cuda.is_available())\n",
    "\n",
    "# Check the current device\n",
    "print(\"Cuda current device: \", torch.cuda.get_device_properties(torch.cuda.current_device()))"
   ]
  },
  {
   "cell_type": "code",
   "execution_count": null,
   "metadata": {},
   "outputs": [],
   "source": [
    "# Clone YOLOv5 repository\n",
    "# !git clone https://github.com/ultralytics/yolov5 \n",
    "# %cd yolov5\n",
    "\n",
    "# Install dependencies\n",
    "# %pip install -r requirements.txt"
   ]
  },
  {
   "cell_type": "code",
   "execution_count": null,
   "metadata": {},
   "outputs": [],
   "source": [
    "!python train.py --img 640 --batch 4 --epochs 50 --data ../data.yaml --weights yolov5s.pt --device 0"
   ]
  }
 ],
 "metadata": {
  "kernelspec": {
   "display_name": "Python 3",
   "language": "python",
   "name": "python3"
  },
  "language_info": {
   "codemirror_mode": {
    "name": "ipython",
    "version": 3
   },
   "file_extension": ".py",
   "mimetype": "text/x-python",
   "name": "python",
   "nbconvert_exporter": "python",
   "pygments_lexer": "ipython3",
   "version": "3.10.11"
  }
 },
 "nbformat": 4,
 "nbformat_minor": 2
}
